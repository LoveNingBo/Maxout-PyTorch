{
 "cells": [
  {
   "cell_type": "code",
   "execution_count": null,
   "metadata": {},
   "outputs": [],
   "source": [
    "import numpy as np\n",
    "import torch\n",
    "from torch.autograd import Variable\n",
    "import torch.nn as nn\n",
    "from torch.autograd import Function"
   ]
  },
  {
   "cell_type": "code",
   "execution_count": null,
   "metadata": {},
   "outputs": [],
   "source": [
    "class Maxout(Function):\n",
    "\n",
    "    # Note that both forward and backward are @staticmethods\n",
    "    @staticmethod\n",
    "    # bias is an optional argument\n",
    "    def forward(ctx, input):\n",
    "        x = input\n",
    "        max_out=4    #Maxout Parameter\n",
    "        kernels = x.shape[1]  # to get how many kernels/output\n",
    "        feature_maps = int(kernels / max_out)\n",
    "        out_shape = (x.shape[0], feature_maps, max_out, x.shape[2], x.shape[3])\n",
    "        x= x.view(out_shape)\n",
    "        y, indices = torch.max(x[:, :, :], 2)\n",
    "        ctx.save_for_backward(input)\n",
    "        ctx.indices=indices\n",
    "        ctx.max_out=max_out\n",
    "        return y\n",
    "\n",
    "    # This function has only a single output, so it gets only one gradient\n",
    "    @staticmethod\n",
    "    def backward(ctx, grad_output):\n",
    "        input1,indices,max_out= ctx.saved_variables[0],Variable(ctx.indices),ctx.max_out\n",
    "        input=input1.clone()\n",
    "        for i in range(max_out):\n",
    "            a0=indices==i\n",
    "            input[:,i:input.data.shape[1]:max_out]=a0.float()*grad_output\n",
    "      \n",
    "\n",
    "        return input\n"
   ]
  },
  {
   "cell_type": "code",
   "execution_count": null,
   "metadata": {},
   "outputs": [],
   "source": [
    "#This is an example for image reconstruction but you can modify it as you want.\n",
    "class CNN(nn.Module):\n",
    "    def __init__(self):\n",
    "        super(CNN, self).__init__()\n",
    "        self.layer1 = nn.Conv2d(3, 64, kernel_size=9, padding=4)\n",
    "        self.mo1=Maxout.apply\n",
    "        self.layer2 = nn.Conv2d(16, 32, kernel_size=5, padding=2)\n",
    "        self.mo2 = Maxout.apply\n",
    "        self.layer3 = nn.Conv2d(8, 4, kernel_size=3, padding=1) \n",
    "        self.mo3 = Maxout.apply #max_out on line 8 if class Maxout is 4, it will output 1 feature map here\n",
    "        \n",
    "    def forward(self, x):\n",
    "        out = self.mo1(self.layer1(x))\n",
    "        out = self.mo2(self.layer2(out))\n",
    "        out = self.mo3(self.layer3(out))\n",
    "        return out"
   ]
  }
 ],
 "metadata": {
  "kernelspec": {
   "display_name": "Python 3",
   "language": "python",
   "name": "python3"
  },
  "language_info": {
   "codemirror_mode": {
    "name": "ipython",
    "version": 3
   },
   "file_extension": ".py",
   "mimetype": "text/x-python",
   "name": "python",
   "nbconvert_exporter": "python",
   "pygments_lexer": "ipython3",
   "version": "3.6.4"
  }
 },
 "nbformat": 4,
 "nbformat_minor": 2
}
